{
 "cells": [
  {
   "cell_type": "code",
   "execution_count": null,
   "metadata": {},
   "outputs": [],
   "source": [
    "from selenium import webdriver\n",
    "from selenium.webdriver.common.by import By\n",
    "from selenium.webdriver.support.ui import WebDriverWait\n",
    "from selenium.webdriver.support import expected_conditions as EC\n",
    "from bs4 import BeautifulSoup\n",
    "import time\n",
    "import json\n",
    "import os"
   ]
  },
  {
   "cell_type": "code",
   "execution_count": null,
   "metadata": {},
   "outputs": [],
   "source": [
    "ID_COOKIES_BUTTON = \"onetrust-accept-btn-handler\"\n",
    "CLASS_ITEM_SALE = \"new-item-box__overlay\"\n",
    "KEY_WORD_LOCATION = \"Sverige\"\n",
    "DATA_TESTID_LOCATION_PARENT = \"item-details-location\"\n",
    "CLASS_LOCATION_VALUE = \"details-list__item-value\"\n",
    "CLASS_NEXT_PAGE = \"web_ui__Pagination__next\"\n",
    "DIRECTORY_OUTPUT = \"output\"\n",
    "FILENAME_OUTPUT_LOCATION = \"location.json\"\n",
    "FILENAME_CONFIG = \"config.txt\"\n",
    "\n",
    "PATH_OUTPUT_LOCATION = os.path.join(DIRECTORY_OUTPUT, FILENAME_OUTPUT_LOCATION)"
   ]
  },
  {
   "cell_type": "code",
   "execution_count": null,
   "metadata": {},
   "outputs": [],
   "source": [
    "driver = webdriver.Chrome()"
   ]
  },
  {
   "cell_type": "markdown",
   "metadata": {},
   "source": [
    " Dans cette partie, on va accéder au site de Vinted. Si l'utilisateur a déjà effectué une recherche auparavant, nous souhaitons charger les filtres qu'il avait précédemment sélectionnés. Ces filtres sont stockés dans l'URL de la recherche précédente. S'il n'avait pas effectué de recherche, l'url de vinted par défaut est utilisée."
   ]
  },
  {
   "cell_type": "code",
   "execution_count": null,
   "metadata": {},
   "outputs": [],
   "source": [
    "url_vinted = \"https://www.vinted.se/\"\n",
    "\n",
    "if os.path.isfile(FILENAME_CONFIG):\n",
    "    with open(FILENAME_CONFIG, \"r\") as file:\n",
    "        url_vinted = file.read()\n",
    "    print(\"URL récupérée :\", url_vinted)"
   ]
  },
  {
   "cell_type": "code",
   "execution_count": null,
   "metadata": {},
   "outputs": [],
   "source": [
    "driver.get(url_vinted)"
   ]
  },
  {
   "cell_type": "markdown",
   "metadata": {},
   "source": [
    "Accepter les cookies si nécessaire"
   ]
  },
  {
   "cell_type": "code",
   "execution_count": null,
   "metadata": {},
   "outputs": [],
   "source": [
    "try:\n",
    "    cookies_button = driver.find_element(By.ID, ID_COOKIES_BUTTON)\n",
    "    cookies_button.click()\n",
    "except Exception as e:\n",
    "    # S'il n'y a pas la popup des cookies\n",
    "    pass "
   ]
  },
  {
   "cell_type": "markdown",
   "metadata": {},
   "source": [
    "L'utilisateur doit d'abord choisir les filtres par défaut manuellement sur l'interface du navigateur. \n",
    "\n",
    "Une fois cette étape accomplie, il doit exécuter la cellule suivante pour enregistrer les filtres de Vinted afin de les réutiliser lors de ses prochaines visites."
   ]
  },
  {
   "cell_type": "code",
   "execution_count": null,
   "metadata": {},
   "outputs": [],
   "source": [
    "with open(FILENAME_CONFIG, \"w\") as file:\n",
    "    file.write(driver.current_url)"
   ]
  },
  {
   "cell_type": "markdown",
   "metadata": {},
   "source": [
    "On cherche maintenant à récupérer tous les URLS de tous les produits"
   ]
  },
  {
   "cell_type": "code",
   "execution_count": null,
   "metadata": {},
   "outputs": [],
   "source": [
    "def extract_urls_page():\n",
    "    \"\"\"\n",
    "    Extract all URLs of products for sale on the opened page.\n",
    "    \"\"\"\n",
    "    soup = BeautifulSoup(driver.page_source, 'html.parser')\n",
    "    items = soup.find_all(\"a\", class_=CLASS_ITEM_SALE)\n",
    "    urls = [item['href'] for item in items]\n",
    "    return urls"
   ]
  },
  {
   "cell_type": "markdown",
   "metadata": {},
   "source": [
    "On définit le dictionnaire qui va stocker les différentes url trié par localisation."
   ]
  },
  {
   "cell_type": "code",
   "execution_count": null,
   "metadata": {},
   "outputs": [],
   "source": [
    "urls_location = {}"
   ]
  },
  {
   "cell_type": "markdown",
   "metadata": {},
   "source": [
    "On récupère les données déjà collectées lors des précédentes sessions."
   ]
  },
  {
   "cell_type": "code",
   "execution_count": null,
   "metadata": {},
   "outputs": [],
   "source": [
    "if os.path.exists(PATH_OUTPUT_LOCATION):\n",
    "    with open(PATH_OUTPUT_LOCATION, \"r\") as file:\n",
    "        urls_location = json.load(file)\n",
    "    print(\"Données des recherches antérieures chargées\")\n",
    "else:\n",
    "    print(\"Aucune recherche antérieure.\")"
   ]
  },
  {
   "cell_type": "markdown",
   "metadata": {},
   "source": [
    "On trie maintenant les urls en fonction de la localisation"
   ]
  },
  {
   "cell_type": "code",
   "execution_count": null,
   "metadata": {},
   "outputs": [],
   "source": [
    "def sort_urls_by_location(urls_items):\n",
    "    global urls_location\n",
    "\n",
    "    url_product_list = driver.current_url\n",
    "\n",
    "    for url in urls_items:\n",
    "        driver.get(url)\n",
    "        time.sleep(0.5)\n",
    "        soup = BeautifulSoup(driver.page_source, 'html.parser')\n",
    "        \n",
    "        div_location = soup.find(\"div\", {\"data-testid\": DATA_TESTID_LOCATION_PARENT})\n",
    "\n",
    "        if div_location:\n",
    "            location = div_location.find(\"div\", class_=CLASS_LOCATION_VALUE)\n",
    "            if location:\n",
    "                if location.text in urls_location:\n",
    "                    urls_location[location.text].append(url)\n",
    "                else:\n",
    "                    urls_location[location.text] = [url]\n",
    "            else:\n",
    "                print(\"Localisation non mentionnée\")\n",
    "        else:\n",
    "            print(\"Description localisation manquante\")\n",
    "            print(driver.page_source)\n",
    "\n",
    "        # driver.back()  \n",
    "    driver.get(url_product_list) # Revenir en arrière pour continuer la recherche"
   ]
  },
  {
   "cell_type": "markdown",
   "metadata": {},
   "source": [
    "Parcourir toute les pages"
   ]
  },
  {
   "cell_type": "code",
   "execution_count": null,
   "metadata": {},
   "outputs": [],
   "source": [
    "def go_to_next_page():\n",
    "    # Passer à la page suivante si elle existe\n",
    "    try:\n",
    "        next_button = driver.find_element(By.CLASS_NAME, CLASS_NEXT_PAGE)\n",
    "        next_button.click()\n",
    "        WebDriverWait(driver, 10).until(EC.staleness_of(next_button))\n",
    "        return True\n",
    "    except Exception as e:\n",
    "        return False"
   ]
  },
  {
   "cell_type": "code",
   "execution_count": null,
   "metadata": {},
   "outputs": [],
   "source": [
    "def remove_url_already_visited(urls_to_check, old_urls):\n",
    "    res = []\n",
    "    \n",
    "    for url in urls_to_check:\n",
    "        if url in old_urls:\n",
    "            print(True, res)\n",
    "            return True, res\n",
    "        res.append(url)\n",
    "    print(False, res)\n",
    "    return False, res"
   ]
  },
  {
   "cell_type": "code",
   "execution_count": null,
   "metadata": {},
   "outputs": [],
   "source": [
    "def navigate_between_pages():\n",
    "    global urls_location\n",
    "\n",
    "    urls_already_visited = []\n",
    "    for location in urls_location.values():\n",
    "        urls_already_visited.extend(location)\n",
    "\n",
    "    next_page = True\n",
    "    i = 0\n",
    "    while next_page:\n",
    "        print(i)\n",
    "        i+=1\n",
    "        \n",
    "        urls_items = extract_urls_page()\n",
    "        has_removed_url, urls_items_not_visited = remove_url_already_visited(urls_items, urls_already_visited)\n",
    "        sort_urls_by_location(urls_items_not_visited)\n",
    "\n",
    "        if has_removed_url: # On a atteint un item déjà visité, donc inutile de continuer\n",
    "            next_page = False\n",
    "        else:\n",
    "            next_page = go_to_next_page()"
   ]
  },
  {
   "cell_type": "code",
   "execution_count": null,
   "metadata": {},
   "outputs": [],
   "source": [
    "navigate_between_pages()"
   ]
  },
  {
   "cell_type": "markdown",
   "metadata": {},
   "source": [
    "Filtrer les produits en fonction d'une localisation précise"
   ]
  },
  {
   "cell_type": "code",
   "execution_count": null,
   "metadata": {},
   "outputs": [],
   "source": [
    "def filter_urls_by_location(location):\n",
    "    global urls_location\n",
    "    url_filtered = {}\n",
    "    for key, value in urls_location.items():\n",
    "        if location in key:\n",
    "            url_filtered[key] = value\n",
    "    return url_filtered\n",
    "    "
   ]
  },
  {
   "cell_type": "code",
   "execution_count": null,
   "metadata": {},
   "outputs": [],
   "source": [
    "filter_urls_by_location(KEY_WORD_LOCATION)"
   ]
  },
  {
   "cell_type": "markdown",
   "metadata": {},
   "source": [
    "Sauvegarde des résultats"
   ]
  },
  {
   "cell_type": "code",
   "execution_count": null,
   "metadata": {},
   "outputs": [],
   "source": [
    "if not os.path.exists(DIRECTORY_OUTPUT):\n",
    "    os.makedirs(DIRECTORY_OUTPUT)"
   ]
  },
  {
   "cell_type": "code",
   "execution_count": null,
   "metadata": {},
   "outputs": [],
   "source": [
    "with open(PATH_OUTPUT_LOCATION, \"w\") as file:\n",
    "    json.dump(urls_location, file)"
   ]
  },
  {
   "cell_type": "markdown",
   "metadata": {},
   "source": [
    "Fermer le navigateur"
   ]
  },
  {
   "cell_type": "code",
   "execution_count": null,
   "metadata": {},
   "outputs": [],
   "source": [
    "driver.quit()"
   ]
  }
 ],
 "metadata": {
  "kernelspec": {
   "display_name": ".venv",
   "language": "python",
   "name": "python3"
  },
  "language_info": {
   "codemirror_mode": {
    "name": "ipython",
    "version": 3
   },
   "file_extension": ".py",
   "mimetype": "text/x-python",
   "name": "python",
   "nbconvert_exporter": "python",
   "pygments_lexer": "ipython3",
   "version": "3.11.5"
  },
  "orig_nbformat": 4
 },
 "nbformat": 4,
 "nbformat_minor": 2
}
