{
 "cells": [
  {
   "cell_type": "code",
   "execution_count": null,
   "metadata": {},
   "outputs": [],
   "source": [
    "from selenium import webdriver\n",
    "from selenium.webdriver.common.by import By\n",
    "from selenium.webdriver.support.ui import WebDriverWait\n",
    "from selenium.webdriver.support import expected_conditions as EC\n",
    "from bs4 import BeautifulSoup\n",
    "import time"
   ]
  },
  {
   "cell_type": "code",
   "execution_count": null,
   "metadata": {},
   "outputs": [],
   "source": [
    "ID_COOKIES_BUTTON = \"onetrust-accept-btn-handler\"\n",
    "CLASS_ITEM_SALE = \"new-item-box__overlay\"\n",
    "KEY_WORD = \"Sverige\"\n",
    "DATA_TESTID_LOCATION_PARENT = \"item-details-location\"\n",
    "CLASS_LOCATION_VALUE = \"details-list__item-value\"\n",
    "CLASS_NEXT_PAGE = \"web_ui__Pagination__next\""
   ]
  },
  {
   "cell_type": "code",
   "execution_count": null,
   "metadata": {},
   "outputs": [],
   "source": [
    "driver = webdriver.Chrome()"
   ]
  },
  {
   "cell_type": "markdown",
   "metadata": {},
   "source": [
    "Aller sur le site de vinted"
   ]
  },
  {
   "cell_type": "code",
   "execution_count": null,
   "metadata": {},
   "outputs": [],
   "source": [
    "driver.get(\"https://www.vinted.se/\")"
   ]
  },
  {
   "cell_type": "markdown",
   "metadata": {},
   "source": [
    "Accepter les cookies si nécessaire"
   ]
  },
  {
   "cell_type": "code",
   "execution_count": null,
   "metadata": {},
   "outputs": [],
   "source": [
    "try:\n",
    "    cookies_button = driver.find_element(By.ID, ID_COOKIES_BUTTON)\n",
    "    cookies_button.click()\n",
    "except Exception as e:\n",
    "    # S'il n'y a pas la popup des cookies\n",
    "    pass "
   ]
  },
  {
   "cell_type": "markdown",
   "metadata": {},
   "source": [
    "Sélectionner manuellement les filtres par défaut"
   ]
  },
  {
   "cell_type": "markdown",
   "metadata": {},
   "source": [
    "On cherche maintenant à récupérer tous les URLS de tous les produits"
   ]
  },
  {
   "cell_type": "code",
   "execution_count": null,
   "metadata": {},
   "outputs": [],
   "source": [
    "def extract_urls_page():\n",
    "    \"\"\"\n",
    "    Extract all URLs of products for sale on the opened page.\n",
    "    \"\"\"\n",
    "    soup = BeautifulSoup(driver.page_source, 'html.parser')\n",
    "    items = soup.find_all(\"a\", class_=CLASS_ITEM_SALE)\n",
    "    urls = [item['href'] for item in items]\n",
    "    return urls"
   ]
  },
  {
   "cell_type": "markdown",
   "metadata": {},
   "source": [
    "On filtre maintenant les urls en fonction de ce que souhaite l'utilisateur"
   ]
  },
  {
   "cell_type": "code",
   "execution_count": null,
   "metadata": {},
   "outputs": [],
   "source": [
    "def filter_urls_by_location():\n",
    "    url_product_list = driver.current_url\n",
    "    urls_all = extract_urls_page()\n",
    "    urls_filtered = []\n",
    "    urls_filtered_wrong = []\n",
    "    for url in urls_all:\n",
    "        driver.get(url)\n",
    "        time.sleep(0.5)\n",
    "        soup = BeautifulSoup(driver.page_source, 'html.parser')\n",
    "        \n",
    "        div_location = soup.find(\"div\", {\"data-testid\": DATA_TESTID_LOCATION_PARENT})\n",
    "\n",
    "        if div_location:\n",
    "            location = div_location.find(\"div\", class_=CLASS_LOCATION_VALUE)\n",
    "            if location:\n",
    "                if KEY_WORD in location.text:\n",
    "                    urls_filtered.append(url) \n",
    "                else :\n",
    "                    urls_filtered_wrong.append(url)\n",
    "            else:\n",
    "                print(\"Localisation non mentionnée\")\n",
    "        else:\n",
    "            print(\"Description localisation manquante\")\n",
    "            print(driver.page_source)\n",
    "\n",
    "        # driver.back()  \n",
    "    driver.get(url_product_list) # Revenir en arrière pour continuer la recherche\n",
    "    return urls_filtered, urls_filtered_wrong"
   ]
  },
  {
   "cell_type": "markdown",
   "metadata": {},
   "source": [
    "Parcourir toute les pages"
   ]
  },
  {
   "cell_type": "code",
   "execution_count": null,
   "metadata": {},
   "outputs": [],
   "source": [
    "def go_to_next_page():\n",
    "    # Passer à la page suivante si elle existe\n",
    "    try:\n",
    "        next_button = driver.find_element(By.CLASS_NAME, CLASS_NEXT_PAGE)\n",
    "        next_button.click()\n",
    "        WebDriverWait(driver, 10).until(EC.staleness_of(next_button))\n",
    "        return True\n",
    "    except Exception as e:\n",
    "        return False"
   ]
  },
  {
   "cell_type": "code",
   "execution_count": null,
   "metadata": {},
   "outputs": [],
   "source": [
    "urls_totales = []\n",
    "next_page = True\n",
    "i = 0\n",
    "while next_page and i < 10:\n",
    "    i+=1\n",
    "    urls_filtered, url_wrong = filter_urls_by_location()\n",
    "    urls_totales.extend(urls_filtered)\n",
    "    next_page = go_to_next_page()"
   ]
  },
  {
   "cell_type": "code",
   "execution_count": null,
   "metadata": {},
   "outputs": [],
   "source": [
    "urls_totales"
   ]
  },
  {
   "cell_type": "markdown",
   "metadata": {},
   "source": [
    "Fermer le navigateur"
   ]
  },
  {
   "cell_type": "code",
   "execution_count": null,
   "metadata": {},
   "outputs": [],
   "source": [
    "driver.quit()"
   ]
  }
 ],
 "metadata": {
  "kernelspec": {
   "display_name": ".venv",
   "language": "python",
   "name": "python3"
  },
  "language_info": {
   "codemirror_mode": {
    "name": "ipython",
    "version": 3
   },
   "file_extension": ".py",
   "mimetype": "text/x-python",
   "name": "python",
   "nbconvert_exporter": "python",
   "pygments_lexer": "ipython3",
   "version": "3.11.5"
  },
  "orig_nbformat": 4
 },
 "nbformat": 4,
 "nbformat_minor": 2
}
