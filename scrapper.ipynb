{
 "cells": [
  {
   "cell_type": "code",
   "execution_count": 236,
   "metadata": {},
   "outputs": [],
   "source": [
    "from selenium import webdriver\n",
    "from selenium.webdriver.common.by import By\n",
    "from selenium.webdriver.support.ui import WebDriverWait\n",
    "from selenium.webdriver.support import expected_conditions as EC\n",
    "from bs4 import BeautifulSoup\n",
    "import time\n",
    "import json\n",
    "import os"
   ]
  },
  {
   "cell_type": "code",
   "execution_count": 237,
   "metadata": {},
   "outputs": [],
   "source": [
    "ID_COOKIES_BUTTON = \"onetrust-accept-btn-handler\"\n",
    "CLASS_ITEM_SALE = \"new-item-box__overlay\"\n",
    "KEY_WORD_LOCATION = \"Sverige\"\n",
    "DATA_TESTID_LOCATION_PARENT = \"item-details-location\"\n",
    "CLASS_LOCATION_VALUE = \"details-list__item-value\"\n",
    "CLASS_NEXT_PAGE = \"web_ui__Pagination__next\"\n",
    "DIRECTORY_OUTPUT = \"output\"\n",
    "FILENAME_OUTPUT_LOCATION = \"location.json\""
   ]
  },
  {
   "cell_type": "code",
   "execution_count": 238,
   "metadata": {},
   "outputs": [],
   "source": [
    "driver = webdriver.Chrome()"
   ]
  },
  {
   "cell_type": "markdown",
   "metadata": {},
   "source": [
    "Aller sur le site de vinted"
   ]
  },
  {
   "cell_type": "code",
   "execution_count": 239,
   "metadata": {},
   "outputs": [],
   "source": [
    "driver.get(\"https://www.vinted.se/\")"
   ]
  },
  {
   "cell_type": "markdown",
   "metadata": {},
   "source": [
    "Accepter les cookies si nécessaire"
   ]
  },
  {
   "cell_type": "code",
   "execution_count": 240,
   "metadata": {},
   "outputs": [],
   "source": [
    "try:\n",
    "    cookies_button = driver.find_element(By.ID, ID_COOKIES_BUTTON)\n",
    "    cookies_button.click()\n",
    "except Exception as e:\n",
    "    # S'il n'y a pas la popup des cookies\n",
    "    pass "
   ]
  },
  {
   "cell_type": "markdown",
   "metadata": {},
   "source": [
    "Sélectionner manuellement les filtres par défaut"
   ]
  },
  {
   "cell_type": "markdown",
   "metadata": {},
   "source": [
    "On cherche maintenant à récupérer tous les URLS de tous les produits"
   ]
  },
  {
   "cell_type": "code",
   "execution_count": 241,
   "metadata": {},
   "outputs": [],
   "source": [
    "def extract_urls_page():\n",
    "    \"\"\"\n",
    "    Extract all URLs of products for sale on the opened page.\n",
    "    \"\"\"\n",
    "    soup = BeautifulSoup(driver.page_source, 'html.parser')\n",
    "    items = soup.find_all(\"a\", class_=CLASS_ITEM_SALE)\n",
    "    urls = [item['href'] for item in items]\n",
    "    return urls"
   ]
  },
  {
   "cell_type": "markdown",
   "metadata": {},
   "source": [
    "On trie maintenant les urls en fonction de la localisation"
   ]
  },
  {
   "cell_type": "code",
   "execution_count": 242,
   "metadata": {},
   "outputs": [],
   "source": [
    "urls_location = {}"
   ]
  },
  {
   "cell_type": "code",
   "execution_count": 243,
   "metadata": {},
   "outputs": [],
   "source": [
    "def sort_urls_by_location():\n",
    "    global urls_location\n",
    "\n",
    "    url_product_list = driver.current_url\n",
    "    urls_all = extract_urls_page()\n",
    "\n",
    "    for url in urls_all:\n",
    "        driver.get(url)\n",
    "        time.sleep(0.5)\n",
    "        soup = BeautifulSoup(driver.page_source, 'html.parser')\n",
    "        \n",
    "        div_location = soup.find(\"div\", {\"data-testid\": DATA_TESTID_LOCATION_PARENT})\n",
    "\n",
    "        if div_location:\n",
    "            location = div_location.find(\"div\", class_=CLASS_LOCATION_VALUE)\n",
    "            if location:\n",
    "                if location.text in urls_location:\n",
    "                    urls_location[location.text].append(url)\n",
    "                else:\n",
    "                    urls_location[location.text] = [url]\n",
    "            else:\n",
    "                print(\"Localisation non mentionnée\")\n",
    "        else:\n",
    "            print(\"Description localisation manquante\")\n",
    "            print(driver.page_source)\n",
    "\n",
    "        # driver.back()  \n",
    "    driver.get(url_product_list) # Revenir en arrière pour continuer la recherche"
   ]
  },
  {
   "cell_type": "markdown",
   "metadata": {},
   "source": [
    "Parcourir toute les pages"
   ]
  },
  {
   "cell_type": "code",
   "execution_count": 244,
   "metadata": {},
   "outputs": [],
   "source": [
    "def go_to_next_page():\n",
    "    # Passer à la page suivante si elle existe\n",
    "    try:\n",
    "        next_button = driver.find_element(By.CLASS_NAME, CLASS_NEXT_PAGE)\n",
    "        next_button.click()\n",
    "        WebDriverWait(driver, 10).until(EC.staleness_of(next_button))\n",
    "        return True\n",
    "    except Exception as e:\n",
    "        return False"
   ]
  },
  {
   "cell_type": "code",
   "execution_count": 245,
   "metadata": {},
   "outputs": [],
   "source": [
    "next_page = True\n",
    "i = 0\n",
    "while next_page and i < 1:\n",
    "    i+=1\n",
    "    sort_urls_by_location()\n",
    "    next_page = go_to_next_page()"
   ]
  },
  {
   "cell_type": "markdown",
   "metadata": {},
   "source": [
    "Filtrer les produits en fonction d'une localisation précise"
   ]
  },
  {
   "cell_type": "code",
   "execution_count": 246,
   "metadata": {},
   "outputs": [],
   "source": [
    "def filter_urls_by_location(location):\n",
    "    global urls_location\n",
    "    url_filtered = {}\n",
    "    for key, value in urls_location.items():\n",
    "        if location in key:\n",
    "            url_filtered[key] = value\n",
    "    return url_filtered\n",
    "    "
   ]
  },
  {
   "cell_type": "code",
   "execution_count": 247,
   "metadata": {},
   "outputs": [
    {
     "data": {
      "text/plain": [
       "{'Åkersberga, Sverige': ['https://www.vinted.se/items/3470711409-triopack-bhar'],\n",
       " 'Solna, Sverige': ['https://www.vinted.se/items/3469964052-bh-med-fina-detaljer']}"
      ]
     },
     "execution_count": 247,
     "metadata": {},
     "output_type": "execute_result"
    }
   ],
   "source": [
    "filter_urls_by_location(KEY_WORD_LOCATION)"
   ]
  },
  {
   "cell_type": "markdown",
   "metadata": {},
   "source": [
    "Sauvegarde des résultats"
   ]
  },
  {
   "cell_type": "code",
   "execution_count": 248,
   "metadata": {},
   "outputs": [],
   "source": [
    "if not os.path.exists(DIRECTORY_OUTPUT):\n",
    "    os.makedirs(DIRECTORY_OUTPUT)"
   ]
  },
  {
   "cell_type": "code",
   "execution_count": 249,
   "metadata": {},
   "outputs": [],
   "source": [
    "file_path = os.path.join(DIRECTORY_OUTPUT, FILENAME_OUTPUT_LOCATION)\n",
    "with open(file_path, \"w\") as file:\n",
    "    json.dump(urls_location, file)"
   ]
  },
  {
   "cell_type": "markdown",
   "metadata": {},
   "source": [
    "Fermer le navigateur"
   ]
  },
  {
   "cell_type": "code",
   "execution_count": 250,
   "metadata": {},
   "outputs": [],
   "source": [
    "driver.quit()"
   ]
  }
 ],
 "metadata": {
  "kernelspec": {
   "display_name": ".venv",
   "language": "python",
   "name": "python3"
  },
  "language_info": {
   "codemirror_mode": {
    "name": "ipython",
    "version": 3
   },
   "file_extension": ".py",
   "mimetype": "text/x-python",
   "name": "python",
   "nbconvert_exporter": "python",
   "pygments_lexer": "ipython3",
   "version": "3.11.5"
  },
  "orig_nbformat": 4
 },
 "nbformat": 4,
 "nbformat_minor": 2
}
